{
 "cells": [
  {
   "cell_type": "markdown",
   "id": "561c6d93-1c48-43f5-862d-e7df38b66ef8",
   "metadata": {},
   "source": [
    "Author: Chris J. Dallmann \\\n",
    "Affiliation: University of Wuerzburg \\\n",
    "Last revision: 29-July-2025"
   ]
  },
  {
   "cell_type": "code",
   "execution_count": 1,
   "id": "d58ff2d6",
   "metadata": {},
   "outputs": [],
   "source": [
    "import pandas as pd\n",
    "import numpy as np\n",
    "import matplotlib.pyplot as plt\n",
    "from caveclient import CAVEclient"
   ]
  },
  {
   "cell_type": "code",
   "execution_count": 2,
   "id": "528559ee-4936-48f6-8321-8d62ce76ba3b",
   "metadata": {},
   "outputs": [],
   "source": [
    "def hl_nt_dict():\n",
    "    \n",
    "    hl_nt_dict = {\n",
    "        '0A': 'GABA',\n",
    "        '0A/0B': 'GABA',\n",
    "        '1A': 'ACH',\n",
    "        '1B': 'GABA',\n",
    "        '2A': 'GLUT',\n",
    "        '3A': 'ACH',\n",
    "        '3B': 'GABA',\n",
    "        '4B': 'ACH',\n",
    "        '5B': 'GABA',\n",
    "        '6A': 'GABA',\n",
    "        '6B': 'GABA',\n",
    "        '7B': 'ACH',\n",
    "        '8A': 'GLUT',\n",
    "        '8B': 'ACH',\n",
    "        '9A': 'GABA',\n",
    "        '9B': 'GLUT',\n",
    "        '10B': 'ACH',\n",
    "        '11A': 'ACH',\n",
    "        '11B': 'GABA',\n",
    "        '12A': 'ACH',\n",
    "        '12B': 'GABA',\n",
    "        '13A': 'GABA',\n",
    "        '13B': 'GABA',\n",
    "        '14A': 'GLUT',\n",
    "        '15B': 'GLUT',\n",
    "        '16B': 'GLUT',\n",
    "        '17A': 'ACH',\n",
    "        '18B': 'ACH',\n",
    "        '19A': 'GABA',\n",
    "        '19B': 'ACH',\n",
    "        '20A': 'ACH',\n",
    "        '21A': 'GLUT', \n",
    "        '22A': 'ACH',\n",
    "        '23B': 'ACH',\n",
    "        '24B': 'GLUT'}\n",
    "    \n",
    "    return hl_nt_dict"
   ]
  },
  {
   "cell_type": "code",
   "execution_count": 3,
   "id": "679792c9-4111-4619-99f1-c44c61aa1a6e",
   "metadata": {},
   "outputs": [],
   "source": [
    "# Select cell type\n",
    "#cell_type = ['claw_flx','claw_ext']\n",
    "cell_type = ['hook_flx','hook_ext']"
   ]
  },
  {
   "cell_type": "code",
   "execution_count": 4,
   "id": "87fcfe04",
   "metadata": {},
   "outputs": [],
   "source": [
    "# Initialize CAVEclient\n",
    "# This step requires an authentication token, see https://caveclient.readthedocs.io/en/latest/guide/authentication.html\n",
    "client = CAVEclient()\n",
    "datastack_name = 'fanc_production_mar2021'\n",
    "client = CAVEclient(datastack_name)\n",
    "client.materialize.version = 840"
   ]
  },
  {
   "cell_type": "code",
   "execution_count": 5,
   "id": "6f595789",
   "metadata": {},
   "outputs": [],
   "source": [
    "# Get IDs of FeCO neurons from annotation table  \n",
    "df_feco = client.materialize.query_table('feco_axons_v0', filter_in_dict = {'cell_type': cell_type})\n",
    "\n",
    "# Exclude partially reconstructed claw axons\n",
    "pt_position_to_exclude = np.array([[9093, 101264, 3740], [9401, 100947, 3740]])\n",
    "index_to_exclude = []\n",
    "for index, _ in df_feco.iterrows():\n",
    "    if (df_feco.pt_position[index] == pt_position_to_exclude).all(axis=1).any():\n",
    "        index_to_exclude.append(index)\n",
    "df_feco = df_feco.drop(index_to_exclude)\n",
    "\n",
    "# Get IDs \n",
    "feco_ids = df_feco.pt_root_id.tolist()"
   ]
  },
  {
   "cell_type": "code",
   "execution_count": 6,
   "id": "2bf9cbbd",
   "metadata": {},
   "outputs": [],
   "source": [
    "# Query input synapses \n",
    "df_syn = client.materialize.synapse_query(post_ids = feco_ids)"
   ]
  },
  {
   "cell_type": "code",
   "execution_count": 7,
   "id": "a30b3e9e-9be3-454c-92dc-a480374e7eb4",
   "metadata": {},
   "outputs": [],
   "source": [
    "# Remove connections less than syn_thresh  \n",
    "syn_thresh = 3;\n",
    "df_syn['syn_count'] = 1\n",
    "df_syn = df_syn.groupby(['pre_pt_root_id','post_pt_root_id'])['syn_count'].sum().reset_index().sort_values('syn_count', ascending=False)\n",
    "df_syn = df_syn[df_syn.syn_count >= syn_thresh]"
   ]
  },
  {
   "cell_type": "code",
   "execution_count": 8,
   "id": "39f628cd",
   "metadata": {},
   "outputs": [],
   "source": [
    "# Get IDs of partner neurons\n",
    "partner_ids = df_syn.pre_pt_root_id.unique().tolist()"
   ]
  },
  {
   "cell_type": "code",
   "execution_count": 9,
   "id": "00e0e7a0",
   "metadata": {},
   "outputs": [],
   "source": [
    "# Load annotation table with hemilineages of partner neurons \n",
    "df_annotation = client.materialize.query_table('upstream_feco_axons')\n",
    "annotation_ids = df_annotation.pt_root_id.tolist()"
   ]
  },
  {
   "cell_type": "code",
   "execution_count": 10,
   "id": "f222090c",
   "metadata": {},
   "outputs": [],
   "source": [
    "# Determine number of cholinergic (ACH), GABAergic (GABA), and glutamatergic (GLUT) synapses \n",
    "n_syn_nt = {}\n",
    "n_syn_nt['ACH'] = 0\n",
    "n_syn_nt['GABA'] = 0\n",
    "n_syn_nt['GLUT'] = 0\n",
    "n_syn_nt['Unknown'] = 0\n",
    "\n",
    "nt_dict = hl_nt_dict()\n",
    "nt_dict['hook'] = 'ACH'\n",
    "nt_dict['club'] = 'ACH'\n",
    "nt_dict['hair_plate'] = 'ACH'\n",
    "nt_dict['descending'] = 'Unknown'\n",
    "\n",
    "for partner_id in partner_ids:\n",
    "    # Get number of synapses\n",
    "    n_syn = df_syn.syn_count[df_syn.pre_pt_root_id == partner_id].sum().item()\n",
    "    # Get hemilineage of partner neuron\n",
    "    if partner_id in annotation_ids:\n",
    "        cell_type = df_annotation.cell_type[df_annotation.pt_root_id == partner_id].item()\n",
    "        # Look up primary neurotransmitter of hemilineage \n",
    "        nt = nt_dict[cell_type]\n",
    "    else: \n",
    "        nt = 'Unknown'\n",
    "\n",
    "    if nt == 'Unknown':\n",
    "        n_syn_nt['Unknown'] += n_syn\n",
    "    else:\n",
    "        n_syn_nt[nt] += n_syn    "
   ]
  },
  {
   "cell_type": "code",
   "execution_count": 11,
   "id": "b730f412",
   "metadata": {},
   "outputs": [
    {
     "data": {
      "text/plain": [
       "{'ACH': 142, 'GABA': 911, 'GLUT': 13, 'Unknown': 6}"
      ]
     },
     "execution_count": 11,
     "metadata": {},
     "output_type": "execute_result"
    }
   ],
   "source": [
    "n_syn_nt"
   ]
  },
  {
   "cell_type": "code",
   "execution_count": 12,
   "id": "4be33c18",
   "metadata": {},
   "outputs": [
    {
     "data": {
      "text/plain": [
       "0.8498134328358209"
      ]
     },
     "execution_count": 12,
     "metadata": {},
     "output_type": "execute_result"
    }
   ],
   "source": [
    "# Print fraction of input\n",
    "nt = 'GABA' # 'ACH', 'GABA', 'GLUT', 'Unknown'\n",
    "n_syn_nt[nt]/df_syn.syn_count.sum().item()"
   ]
  }
 ],
 "metadata": {
  "kernelspec": {
   "display_name": "Python 3 (ipykernel)",
   "language": "python",
   "name": "python3"
  },
  "language_info": {
   "codemirror_mode": {
    "name": "ipython",
    "version": 3
   },
   "file_extension": ".py",
   "mimetype": "text/x-python",
   "name": "python",
   "nbconvert_exporter": "python",
   "pygments_lexer": "ipython3",
   "version": "3.10.18"
  }
 },
 "nbformat": 4,
 "nbformat_minor": 5
}
