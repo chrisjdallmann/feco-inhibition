{
 "cells": [
  {
   "cell_type": "markdown",
   "id": "e2b126c3-e450-461b-b24f-67650a79f158",
   "metadata": {},
   "source": [
    "Author: Chris J. Dallmann \\\n",
    "Affiliation: University of Wuerzburg \\\n",
    "Last revision: 01-September-2025"
   ]
  },
  {
   "cell_type": "code",
   "execution_count": 10,
   "id": "b80b5540",
   "metadata": {
    "ExecuteTime": {
     "end_time": "2024-06-17T18:42:30.300445300Z",
     "start_time": "2024-06-17T18:42:30.268905400Z"
    },
    "collapsed": false,
    "jupyter": {
     "outputs_hidden": false
    }
   },
   "outputs": [],
   "source": [
    "from simulation_model import default_params as params\n",
    "import pandas as pd\n",
    "import numpy as np\n",
    "import os\n",
    "import yaml\n",
    "import operator # For fast sorting\n",
    "import sys\n",
    "sys.path.append(os.getcwd()) # Enable relative paths"
   ]
  },
  {
   "cell_type": "code",
   "execution_count": 11,
   "id": "1fb7fd9c",
   "metadata": {
    "ExecuteTime": {
     "end_time": "2024-06-17T20:14:41.503273200Z",
     "start_time": "2024-06-17T20:14:41.257928Z"
    },
    "collapsed": false,
    "jupyter": {
     "outputs_hidden": false
    }
   },
   "outputs": [],
   "source": [
    "# Load simulation data \n",
    "experiment_name = \"BDN2\"\n",
    "freq = 150\n",
    "\n",
    "neurons_excited = [10093] # BDN2\n",
    "#neurons_excited = [10093, 10107] # BDN2, Web\n",
    "#neurons_excited = [32815, 31635, 32742, 31078] # DNg12 \n",
    "#neurons_excited = [32815, 31635, 32742, 31078, 10107] # DNg12, Web \n",
    "\n",
    "path_to_completeness = \"../data/manc_v1_completeness.csv\"\n",
    "path_to_class = \"../data/manc_v1_classifications.csv\"\n",
    "path_to_parquet = \"../data/simulation/\" + experiment_name + \"/\" + str(freq) + \"Hz.parquet\"\n",
    "path_to_csv = \"../data/simulation/\" + experiment_name + \"/\" + str(freq) + \"Hz.csv\"\n",
    "t_run = 1 # Duration of simulation in seconds, relevant for spike frequency calculation below\n",
    "\n",
    "df_simulation = pd.read_parquet(path_to_parquet)"
   ]
  },
  {
   "cell_type": "code",
   "execution_count": 12,
   "id": "eaa2e29d-d6ef-40e6-aa84-f4886a8a74a3",
   "metadata": {},
   "outputs": [
    {
     "name": "stdout",
     "output_type": "stream",
     "text": [
      "1\n"
     ]
    }
   ],
   "source": [
    "# Remove connectome IDs that are not in the completeness.csv\n",
    "df_completeness = pd.read_csv(path_to_completeness)\n",
    "neurons_in_model = df_completeness['bodyId'].tolist()\n",
    "neurons_excited = [(i) for i in neurons_excited if i in neurons_in_model]\n",
    "print(len(neurons_excited))"
   ]
  },
  {
   "cell_type": "code",
   "execution_count": 13,
   "id": "16a584f8-87e6-4e00-9e1b-95579a90366f",
   "metadata": {},
   "outputs": [],
   "source": [
    "# Load connectome annotations\n",
    "df_class = pd.read_csv(path_to_class)"
   ]
  },
  {
   "cell_type": "code",
   "execution_count": 14,
   "id": "14282c97-ba54-49ca-a56c-a156ff1e0036",
   "metadata": {},
   "outputs": [],
   "source": [
    "# Set ranks for sorting\n",
    "class_rank = {}\n",
    "class_rank['descending neuron'] = 0\n",
    "class_rank['intrinsic neuron'] = 1\n",
    "class_rank['motor neuron'] = 2\n",
    "class_rank['ascending neuron'] = 3\n",
    "class_rank['sensory neuron'] = 4\n",
    "class_rank['efferent neuron'] = 5\n",
    "class_rank['sensory ascending'] = 6\n",
    "class_rank['efferent ascending'] = 7"
   ]
  },
  {
   "cell_type": "code",
   "execution_count": 15,
   "id": "675875f7-2b5c-4f0a-a4c6-efe658f71580",
   "metadata": {},
   "outputs": [],
   "source": [
    "# Create dictionary with simulation data and metadata  \n",
    "dict_simulation = {}\n",
    "for neuron in df_simulation[\"connectome_id\"].unique():\n",
    "    dict_simulation[neuron] = {}\n",
    "    dict_simulation[neuron][\"connectome_id\"] = neuron\n",
    "    \n",
    "    # Get simulation data \n",
    "    df_simulation_neuron = df_simulation[df_simulation[\"connectome_id\"] == neuron]\n",
    "    trials = df_simulation_neuron.trial.unique().tolist()\n",
    "    spike_frequency = []\n",
    "    for trial in trials:\n",
    "        spikes = df_simulation_neuron[df_simulation_neuron[\"trial\"] == trial][\"t\"].values\n",
    "        spike_frequency.append(len(spikes)/t_run)\n",
    "\n",
    "    dict_simulation[neuron][\"spike_frequency\"] = np.mean(spike_frequency)\n",
    "\n",
    "    # MANC\n",
    "    dict_simulation[neuron][\"class\"] = df_class[\"class\"][df_class.bodyId == neuron].item()\n",
    "    dict_simulation[neuron][\"class_rank\"] = class_rank[df_class[\"class\"][df_class.bodyId == neuron].item()]\n",
    "\n",
    "    if neuron in neurons_excited:\n",
    "        dict_simulation[neuron][\"excited\"] = 1\n",
    "    else:\n",
    "        dict_simulation[neuron][\"excited\"] = 0"
   ]
  },
  {
   "cell_type": "code",
   "execution_count": 16,
   "id": "7c867f9f-2002-4955-ba07-9a4916f7998f",
   "metadata": {},
   "outputs": [],
   "source": [
    "# Sort dictionary based on spike rate within super class  \n",
    "\n",
    "# Create list of tuples with relevant sorting information (ID, super class, spike frequency)\n",
    "sort_list = [(i, dict_simulation[i][\"class_rank\"], dict_simulation[i][\"spike_frequency\"]) for i in dict_simulation]\n",
    "\n",
    "# Sort IDs \n",
    "sorted_list = sorted(sort_list, key=operator.itemgetter(2), reverse=True)\n",
    "sorted_list = sorted(sorted_list, key=operator.itemgetter(1), reverse=False)\n",
    "sorted_ids = [i[0] for i in sorted_list]\n",
    "\n",
    "# Sort dictionary\n",
    "dict_simulation_sorted = {i: dict_simulation[i] for i in sorted_ids}"
   ]
  },
  {
   "cell_type": "code",
   "execution_count": 17,
   "id": "70646f6d-a034-45fc-ad1c-d4727cdeea96",
   "metadata": {},
   "outputs": [
    {
     "data": {
      "text/html": [
       "<div>\n",
       "<style scoped>\n",
       "    .dataframe tbody tr th:only-of-type {\n",
       "        vertical-align: middle;\n",
       "    }\n",
       "\n",
       "    .dataframe tbody tr th {\n",
       "        vertical-align: top;\n",
       "    }\n",
       "\n",
       "    .dataframe thead th {\n",
       "        text-align: right;\n",
       "    }\n",
       "</style>\n",
       "<table border=\"1\" class=\"dataframe\">\n",
       "  <thead>\n",
       "    <tr style=\"text-align: right;\">\n",
       "      <th></th>\n",
       "      <th>connectome_id</th>\n",
       "      <th>spike_frequency</th>\n",
       "      <th>class</th>\n",
       "      <th>class_rank</th>\n",
       "      <th>excited</th>\n",
       "    </tr>\n",
       "  </thead>\n",
       "  <tbody>\n",
       "    <tr>\n",
       "      <th>10093</th>\n",
       "      <td>10093</td>\n",
       "      <td>148.166667</td>\n",
       "      <td>descending neuron</td>\n",
       "      <td>0</td>\n",
       "      <td>1</td>\n",
       "    </tr>\n",
       "    <tr>\n",
       "      <th>12820</th>\n",
       "      <td>12820</td>\n",
       "      <td>21.500000</td>\n",
       "      <td>descending neuron</td>\n",
       "      <td>0</td>\n",
       "      <td>0</td>\n",
       "    </tr>\n",
       "    <tr>\n",
       "      <th>12791</th>\n",
       "      <td>12791</td>\n",
       "      <td>4.033333</td>\n",
       "      <td>descending neuron</td>\n",
       "      <td>0</td>\n",
       "      <td>0</td>\n",
       "    </tr>\n",
       "    <tr>\n",
       "      <th>10210</th>\n",
       "      <td>10210</td>\n",
       "      <td>1.187500</td>\n",
       "      <td>descending neuron</td>\n",
       "      <td>0</td>\n",
       "      <td>0</td>\n",
       "    </tr>\n",
       "    <tr>\n",
       "      <th>10390</th>\n",
       "      <td>10390</td>\n",
       "      <td>81.166667</td>\n",
       "      <td>intrinsic neuron</td>\n",
       "      <td>1</td>\n",
       "      <td>0</td>\n",
       "    </tr>\n",
       "    <tr>\n",
       "      <th>...</th>\n",
       "      <td>...</td>\n",
       "      <td>...</td>\n",
       "      <td>...</td>\n",
       "      <td>...</td>\n",
       "      <td>...</td>\n",
       "    </tr>\n",
       "    <tr>\n",
       "      <th>10257</th>\n",
       "      <td>10257</td>\n",
       "      <td>1.000000</td>\n",
       "      <td>ascending neuron</td>\n",
       "      <td>3</td>\n",
       "      <td>0</td>\n",
       "    </tr>\n",
       "    <tr>\n",
       "      <th>10351</th>\n",
       "      <td>10351</td>\n",
       "      <td>1.000000</td>\n",
       "      <td>ascending neuron</td>\n",
       "      <td>3</td>\n",
       "      <td>0</td>\n",
       "    </tr>\n",
       "    <tr>\n",
       "      <th>16328</th>\n",
       "      <td>16328</td>\n",
       "      <td>1.000000</td>\n",
       "      <td>ascending neuron</td>\n",
       "      <td>3</td>\n",
       "      <td>0</td>\n",
       "    </tr>\n",
       "    <tr>\n",
       "      <th>16107</th>\n",
       "      <td>16107</td>\n",
       "      <td>1.000000</td>\n",
       "      <td>ascending neuron</td>\n",
       "      <td>3</td>\n",
       "      <td>0</td>\n",
       "    </tr>\n",
       "    <tr>\n",
       "      <th>11170</th>\n",
       "      <td>11170</td>\n",
       "      <td>1.476190</td>\n",
       "      <td>efferent neuron</td>\n",
       "      <td>5</td>\n",
       "      <td>0</td>\n",
       "    </tr>\n",
       "  </tbody>\n",
       "</table>\n",
       "<p>1487 rows × 5 columns</p>\n",
       "</div>"
      ],
      "text/plain": [
       "      connectome_id  spike_frequency              class  class_rank  excited\n",
       "10093         10093       148.166667  descending neuron           0        1\n",
       "12820         12820        21.500000  descending neuron           0        0\n",
       "12791         12791         4.033333  descending neuron           0        0\n",
       "10210         10210         1.187500  descending neuron           0        0\n",
       "10390         10390        81.166667   intrinsic neuron           1        0\n",
       "...             ...              ...                ...         ...      ...\n",
       "10257         10257         1.000000   ascending neuron           3        0\n",
       "10351         10351         1.000000   ascending neuron           3        0\n",
       "16328         16328         1.000000   ascending neuron           3        0\n",
       "16107         16107         1.000000   ascending neuron           3        0\n",
       "11170         11170         1.476190    efferent neuron           5        0\n",
       "\n",
       "[1487 rows x 5 columns]"
      ]
     },
     "execution_count": 17,
     "metadata": {},
     "output_type": "execute_result"
    }
   ],
   "source": [
    "# Convert dictionary to data frame\n",
    "df_excel = pd.DataFrame.from_dict(data=dict_simulation_sorted, orient='index')#.reset_index()\n",
    "df_excel.connectome_id = df_excel.connectome_id.astype(str)\n",
    "df_excel"
   ]
  },
  {
   "cell_type": "code",
   "execution_count": 18,
   "id": "68e9d2f2-9671-48a3-a66a-f2059c6c1d2c",
   "metadata": {},
   "outputs": [
    {
     "name": "stdout",
     "output_type": "stream",
     "text": [
      "Results saved as ../data/simulation/BDN2/150Hz.csv\n"
     ]
    }
   ],
   "source": [
    "# Save as csv\n",
    "df_excel.to_csv(path_to_csv, index=False, header=True)\n",
    "print('Results saved as ' + path_to_csv)"
   ]
  }
 ],
 "metadata": {
  "kernelspec": {
   "display_name": "Python 3 (ipykernel)",
   "language": "python",
   "name": "python3"
  },
  "language_info": {
   "codemirror_mode": {
    "name": "ipython",
    "version": 3
   },
   "file_extension": ".py",
   "mimetype": "text/x-python",
   "name": "python",
   "nbconvert_exporter": "python",
   "pygments_lexer": "ipython3",
   "version": "3.10.16"
  }
 },
 "nbformat": 4,
 "nbformat_minor": 5
}
