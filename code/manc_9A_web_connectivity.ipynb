{
 "cells": [
  {
   "cell_type": "markdown",
   "id": "250e1400-d2d1-4b78-83eb-745575b59583",
   "metadata": {},
   "source": [
    "Author: Chris J. Dallmann \\\n",
    "Affiliation: University of Wuerzburg \\\n",
    "Last revision: 12-March-2025"
   ]
  },
  {
   "cell_type": "code",
   "execution_count": 4,
   "id": "8f984fc1",
   "metadata": {},
   "outputs": [],
   "source": [
    "from neuprint import Client\n",
    "from neuprint import fetch_neurons\n",
    "from neuprint import fetch_adjacencies\n",
    "from neuprint import NeuronCriteria as NC"
   ]
  },
  {
   "cell_type": "code",
   "execution_count": 5,
   "id": "defed1bd-0299-4b4c-8f36-5c2cecc2c9d9",
   "metadata": {},
   "outputs": [],
   "source": [
    "# Select whether to analyze chief 9A or web connectivity\n",
    "source_name = 'web' # 'web' # 'chief_9A', 'web'\n",
    "\n",
    "# For chief 9A neurons, select which specific neuron to analyze. For web, set source_index to 0. \n",
    "source_index = 0 # 0, 1, 2, 3, 4, 5 for chief 9A neurons in L1, L2, L3, R1, R2, R3"
   ]
  },
  {
   "cell_type": "code",
   "execution_count": 18,
   "id": "3704fb2c",
   "metadata": {},
   "outputs": [],
   "source": [
    "# Initialize client\n",
    "# token = '' # From https://neuprint.janelia.org/account\n",
    "c = Client('neuprint.janelia.org', dataset='manc:v1.0', token=token)\n",
    "c.fetch_version()"
   ]
  },
  {
   "cell_type": "code",
   "execution_count": 8,
   "id": "e9ee2288",
   "metadata": {},
   "outputs": [],
   "source": [
    "# Set neuron IDs\n",
    "dict_ids = {}\n",
    "dict_ids['chief_9A'] = [100513, 13157, 14517, 165560, 12443, 12804] # L1, L2, L3, R1, R2, R3\n",
    "dict_ids['web'] = [10107] # Left VNC\n",
    "\n",
    "# Add IDs of hook neurons\n",
    "criteria = NC(type='SNpp38')\n",
    "df_neuron, _= fetch_neurons(criteria)\n",
    "dict_ids['hook'] = df_neuron.bodyId.to_list()"
   ]
  },
  {
   "cell_type": "code",
   "execution_count": 9,
   "id": "83575217-4cef-4404-ba10-25febec16c41",
   "metadata": {},
   "outputs": [],
   "source": [
    "# Set source ID\n",
    "source_id = dict_ids[source_name][source_index]"
   ]
  },
  {
   "cell_type": "code",
   "execution_count": 10,
   "id": "5515a8a1",
   "metadata": {},
   "outputs": [],
   "source": [
    "# Find postsynaptic neurons\n",
    "df_neuron, df_connectivity = fetch_adjacencies(source_id, None)"
   ]
  },
  {
   "cell_type": "code",
   "execution_count": 11,
   "id": "0dab8e64",
   "metadata": {},
   "outputs": [],
   "source": [
    "# Sum weights across neuropils and sort\n",
    "df_connectivity = df_connectivity.groupby(['bodyId_pre','bodyId_post'])['weight'].sum().reset_index().sort_values('weight', ascending=False)"
   ]
  },
  {
   "cell_type": "code",
   "execution_count": 12,
   "id": "6accfb4f",
   "metadata": {},
   "outputs": [],
   "source": [
    "# Remove connections less than weight_thresh\n",
    "weight_thresh = 5 \n",
    "df_connectivity = df_connectivity[df_connectivity.weight >= weight_thresh]"
   ]
  },
  {
   "cell_type": "code",
   "execution_count": 13,
   "id": "5f433850-5003-43b3-9b59-935173ea872c",
   "metadata": {},
   "outputs": [],
   "source": [
    "# Find type of partner neurons  \n",
    "neuron_type = [] \n",
    "n_syn_specific_neurons = 0\n",
    "for index, row in df_connectivity.iterrows():\n",
    "    body_id = df_connectivity.bodyId_post[index]\n",
    "    n_syn = df_connectivity.weight[index].item()\n",
    "    neuron_type_temp = df_neuron.type[df_neuron.bodyId == body_id].item()\n",
    "    \n",
    "    if neuron_type_temp is None:\n",
    "        neuron_type.append('Unknown')\n",
    "    elif 'IN' in neuron_type_temp:\n",
    "        neuron_type.append('IN')\n",
    "        # For web, get connectivity with chief 9As\n",
    "        if (source_name == 'web') & (body_id in dict_ids['chief_9A']):\n",
    "            n_syn_specific_neurons += n_syn\n",
    "    elif 'MN' in neuron_type_temp:\n",
    "        neuron_type.append('MN')\n",
    "    elif 'AN' in neuron_type_temp:\n",
    "        neuron_type.append('AN')\n",
    "    elif 'DN' in neuron_type_temp:\n",
    "        neuron_type.append('DN')\n",
    "    elif 'SN' in neuron_type_temp or 'SA' in neuron_type_temp:\n",
    "        neuron_type.append('SN')\n",
    "        # For chief 9A, get connectivity with hook neurons\n",
    "        if (source_name == 'chief_9A') & (body_id in dict_ids['hook']):\n",
    "            n_syn_specific_neurons += n_syn\n",
    "    elif 'EN' in neuron_type_temp or 'EA' in neuron_type_temp:\n",
    "        # The web neuron makes only few synapses with efferent neurons (ENs). They are counted as IN here.\n",
    "        neuron_type.append('IN') \n",
    "        \n",
    "df_connectivity['neuron_type'] = neuron_type"
   ]
  },
  {
   "cell_type": "code",
   "execution_count": 14,
   "id": "a43bfaa1-4f17-411e-9152-2c874855bd08",
   "metadata": {},
   "outputs": [
    {
     "data": {
      "text/html": [
       "<div>\n",
       "<style scoped>\n",
       "    .dataframe tbody tr th:only-of-type {\n",
       "        vertical-align: middle;\n",
       "    }\n",
       "\n",
       "    .dataframe tbody tr th {\n",
       "        vertical-align: top;\n",
       "    }\n",
       "\n",
       "    .dataframe thead th {\n",
       "        text-align: right;\n",
       "    }\n",
       "</style>\n",
       "<table border=\"1\" class=\"dataframe\">\n",
       "  <thead>\n",
       "    <tr style=\"text-align: right;\">\n",
       "      <th></th>\n",
       "      <th>neuron_type</th>\n",
       "      <th>weight</th>\n",
       "    </tr>\n",
       "  </thead>\n",
       "  <tbody>\n",
       "    <tr>\n",
       "      <th>2</th>\n",
       "      <td>IN</td>\n",
       "      <td>10772</td>\n",
       "    </tr>\n",
       "    <tr>\n",
       "      <th>4</th>\n",
       "      <td>Unknown</td>\n",
       "      <td>958</td>\n",
       "    </tr>\n",
       "    <tr>\n",
       "      <th>3</th>\n",
       "      <td>MN</td>\n",
       "      <td>894</td>\n",
       "    </tr>\n",
       "    <tr>\n",
       "      <th>0</th>\n",
       "      <td>AN</td>\n",
       "      <td>702</td>\n",
       "    </tr>\n",
       "    <tr>\n",
       "      <th>1</th>\n",
       "      <td>DN</td>\n",
       "      <td>247</td>\n",
       "    </tr>\n",
       "  </tbody>\n",
       "</table>\n",
       "</div>"
      ],
      "text/plain": [
       "  neuron_type  weight\n",
       "2          IN   10772\n",
       "4     Unknown     958\n",
       "3          MN     894\n",
       "0          AN     702\n",
       "1          DN     247"
      ]
     },
     "execution_count": 14,
     "metadata": {},
     "output_type": "execute_result"
    }
   ],
   "source": [
    "# Sum weights for each type \n",
    "df_connectivity_summed = df_connectivity.groupby(['neuron_type'])['weight'].sum().reset_index().sort_values('weight', ascending=False)\n",
    "df_connectivity_summed"
   ]
  },
  {
   "cell_type": "code",
   "execution_count": 16,
   "id": "5ba412bb-a175-4e3b-96e2-72bd4109d4ec",
   "metadata": {},
   "outputs": [
    {
     "data": {
      "text/plain": [
       "0.7936344212775363"
      ]
     },
     "execution_count": 16,
     "metadata": {},
     "output_type": "execute_result"
    }
   ],
   "source": [
    "# Calculate relative weight for a neuron type \n",
    "neuron_type = 'IN'\n",
    "int(df_connectivity_summed.weight[df_connectivity_summed.neuron_type==neuron_type].item()) / int(df_connectivity_summed.weight.sum())"
   ]
  },
  {
   "cell_type": "code",
   "execution_count": 17,
   "id": "31cab9ce-23a3-489d-8358-72e68dcc53ef",
   "metadata": {},
   "outputs": [
    {
     "data": {
      "text/plain": [
       "0.01930302807043395"
      ]
     },
     "execution_count": 17,
     "metadata": {},
     "output_type": "execute_result"
    }
   ],
   "source": [
    "# Calculate relative weight for specific neurons \n",
    "n_syn_specific_neurons / int(df_connectivity_summed.weight.sum())"
   ]
  }
 ],
 "metadata": {
  "kernelspec": {
   "display_name": "Python 3 (ipykernel)",
   "language": "python",
   "name": "python3"
  },
  "language_info": {
   "codemirror_mode": {
    "name": "ipython",
    "version": 3
   },
   "file_extension": ".py",
   "mimetype": "text/x-python",
   "name": "python",
   "nbconvert_exporter": "python",
   "pygments_lexer": "ipython3",
   "version": "3.10.16"
  }
 },
 "nbformat": 4,
 "nbformat_minor": 5
}
