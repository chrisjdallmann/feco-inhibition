{
 "cells": [
  {
   "cell_type": "markdown",
   "id": "acb31091-aaa5-4db3-9ac2-92a15a32075a",
   "metadata": {},
   "source": [
    "Author: Chris J. Dallmann \\\n",
    "Affiliation: University of Wuerzburg \\\n",
    "Last revision: 11-March-2025"
   ]
  },
  {
   "cell_type": "code",
   "execution_count": 1,
   "id": "036d3b32",
   "metadata": {},
   "outputs": [],
   "source": [
    "from caveclient import CAVEclient\n",
    "import numpy as np"
   ]
  },
  {
   "cell_type": "code",
   "execution_count": 2,
   "id": "9a1b4af0",
   "metadata": {},
   "outputs": [],
   "source": [
    "# Initialize CAVEclient\n",
    "# This step requires an authentication token, see https://caveclient.readthedocs.io/en/latest/guide/authentication.html\n",
    "client = CAVEclient()\n",
    "datastack_name = 'fanc_production_mar2021'\n",
    "client = CAVEclient(datastack_name)\n",
    "client.materialize.version = 840"
   ]
  },
  {
   "cell_type": "code",
   "execution_count": 3,
   "id": "ccb5911d",
   "metadata": {},
   "outputs": [],
   "source": [
    "timestamp = '2024-01-17T08:10:01.179472'"
   ]
  },
  {
   "cell_type": "code",
   "execution_count": 4,
   "id": "b46b627a",
   "metadata": {},
   "outputs": [],
   "source": [
    "# Specify 9A IDs \n",
    "# client.materialize.version = 840\n",
    "# timestamp = '2024-01-17T08:10:01.179472'\n",
    "source_ids = [648518346496946148, # chief_9A \n",
    "              648518346479879156, \n",
    "              648518346479847574, \n",
    "              648518346467364359,\n",
    "              648518346498002535,\n",
    "              648518346479837078, \n",
    "              648518346486716621]"
   ]
  },
  {
   "cell_type": "markdown",
   "id": "72362d38",
   "metadata": {},
   "source": [
    "## 9A outputs onto hook "
   ]
  },
  {
   "cell_type": "code",
   "execution_count": 5,
   "id": "1cc04934",
   "metadata": {},
   "outputs": [],
   "source": [
    "# Specify target IDs\n",
    "df_target = client.materialize.query_table('feco_axons_v0')\n",
    "df_target = df_target.query('cell_type.str.contains(\"hook\")')\n",
    "target_ids = df_target.pt_root_id.to_list()"
   ]
  },
  {
   "cell_type": "code",
   "execution_count": 6,
   "id": "b0ffe985",
   "metadata": {},
   "outputs": [],
   "source": [
    "syn_thresh = 3\n",
    "n_syn = np.zeros(len(source_ids))\n",
    "\n",
    "for index, source_id in enumerate(source_ids):\n",
    "    df_connectivity = client.materialize.synapse_query(pre_ids=source_id)\n",
    "    # Remove connections less than syn_thresh  \n",
    "    df_connectivity['syn_count'] = 1\n",
    "    df_connectivity = df_connectivity.groupby(['pre_pt_root_id','post_pt_root_id'])['syn_count'].sum().reset_index().sort_values('syn_count', ascending=False)\n",
    "    df_connectivity = df_connectivity[df_connectivity.syn_count >= syn_thresh]\n",
    "\n",
    "    # Calculate outputs   \n",
    "    partner_ids = df_connectivity.post_pt_root_id.to_list()\n",
    "    for partner_id in partner_ids:\n",
    "        if partner_id in target_ids:\n",
    "            n_syn[index] += df_connectivity.syn_count[df_connectivity.post_pt_root_id == partner_id].item() / sum(df_connectivity.syn_count)\n",
    "\n",
    "# Convert to percent synapses   \n",
    "n_syn = n_syn*100"
   ]
  },
  {
   "cell_type": "code",
   "execution_count": 7,
   "id": "23e175ed",
   "metadata": {},
   "outputs": [
    {
     "data": {
      "text/plain": [
       "array([ 62.78350515,   4.19004863,  11.49068323,  54.83870968,\n",
       "       100.        ,   0.81008101,  17.64705882])"
      ]
     },
     "execution_count": 7,
     "metadata": {},
     "output_type": "execute_result"
    }
   ],
   "source": [
    "n_syn"
   ]
  },
  {
   "cell_type": "markdown",
   "id": "f430dea7",
   "metadata": {},
   "source": [
    "## 9A input from sensory or descending neurons"
   ]
  },
  {
   "cell_type": "code",
   "execution_count": 8,
   "id": "b277d390",
   "metadata": {},
   "outputs": [],
   "source": [
    "# Get neuron information\n",
    "df_neuron_info = client.materialize.query_table('neuron_information')"
   ]
  },
  {
   "cell_type": "code",
   "execution_count": 9,
   "id": "80c8affc",
   "metadata": {},
   "outputs": [],
   "source": [
    "# Get IDs of target neurons\n",
    "tag = 'descending' # 'sensory neuron', 'descending'\n",
    "target_ids = df_neuron_info.pt_root_id[df_neuron_info.tag == tag].tolist()"
   ]
  },
  {
   "cell_type": "code",
   "execution_count": 10,
   "id": "4087ca12",
   "metadata": {},
   "outputs": [],
   "source": [
    "syn_thresh = 3\n",
    "n_syn = np.zeros(len(source_ids))\n",
    "\n",
    "for index, source_id in enumerate(source_ids):\n",
    "    df_connectivity = client.materialize.synapse_query(post_ids=source_id)\n",
    "    # Remove connections less than syn_thresh  \n",
    "    df_connectivity['syn_count'] = 1\n",
    "    df_connectivity = df_connectivity.groupby(['pre_pt_root_id','post_pt_root_id'])['syn_count'].sum().reset_index().sort_values('syn_count', ascending=False)\n",
    "    df_connectivity = df_connectivity[df_connectivity.syn_count >= syn_thresh]\n",
    "\n",
    "    # Calculate inputs   \n",
    "    partner_ids = df_connectivity.pre_pt_root_id.to_list()\n",
    "    for partner_id in partner_ids:\n",
    "        if partner_id in target_ids:\n",
    "            n_syn[index] += df_connectivity.syn_count[df_connectivity.pre_pt_root_id == partner_id].item() / sum(df_connectivity.syn_count)\n",
    "\n",
    "# Convert to percent synapses   \n",
    "n_syn = n_syn*100"
   ]
  },
  {
   "cell_type": "code",
   "execution_count": 11,
   "id": "3fc33d7f-0fa6-4ea5-8b53-cb05af342298",
   "metadata": {},
   "outputs": [
    {
     "data": {
      "text/plain": [
       "array([68.31683168,  8.92857143, 12.21374046,  3.7037037 ,  0.        ,\n",
       "       32.95992034,  0.        ])"
      ]
     },
     "execution_count": 11,
     "metadata": {},
     "output_type": "execute_result"
    }
   ],
   "source": [
    "n_syn"
   ]
  },
  {
   "cell_type": "markdown",
   "id": "7fa83417",
   "metadata": {},
   "source": [
    "## 9A input from premotor neurons"
   ]
  },
  {
   "cell_type": "code",
   "execution_count": 16,
   "id": "c765ae96",
   "metadata": {},
   "outputs": [],
   "source": [
    "# Specify target IDs\n",
    "target_df = client.materialize.query_table('left_t1_local_premotor_table_v6')\n",
    "target_ids = target_df.pt_root_id.to_list()"
   ]
  },
  {
   "cell_type": "code",
   "execution_count": 17,
   "id": "57378bb9",
   "metadata": {},
   "outputs": [],
   "source": [
    "syn_thresh = 3\n",
    "n_syn = np.zeros(len(source_ids))\n",
    "\n",
    "for index, source_id in enumerate(source_ids):\n",
    "    df_connectivity = client.materialize.synapse_query(post_ids=source_id)\n",
    "    # Remove connections less than syn_thresh  \n",
    "    df_connectivity['syn_count'] = 1\n",
    "    df_connectivity = df_connectivity.groupby(['pre_pt_root_id','post_pt_root_id'])['syn_count'].sum().reset_index().sort_values('syn_count', ascending=False)\n",
    "    df_connectivity = df_connectivity[df_connectivity.syn_count >= syn_thresh]\n",
    "\n",
    "    # Calculate inputs   \n",
    "    partner_ids = df_connectivity.pre_pt_root_id.to_list()\n",
    "    for partner_id in partner_ids:\n",
    "        if partner_id in target_ids:\n",
    "            n_syn[index] += df_connectivity.syn_count[df_connectivity.pre_pt_root_id == partner_id].item() / sum(df_connectivity.syn_count)\n",
    "\n",
    "# Convert to percent synapses   \n",
    "n_syn = n_syn*100"
   ]
  },
  {
   "cell_type": "code",
   "execution_count": 18,
   "id": "317c64ea-a01b-49ce-915b-abb53ab228d0",
   "metadata": {},
   "outputs": [
    {
     "data": {
      "text/plain": [
       "array([ 6.93069307, 63.83928571, 12.97709924, 53.81263617, 44.56233422,\n",
       "       35.9970127 , 70.41420118])"
      ]
     },
     "execution_count": 18,
     "metadata": {},
     "output_type": "execute_result"
    }
   ],
   "source": [
    "n_syn"
   ]
  }
 ],
 "metadata": {
  "kernelspec": {
   "display_name": "Python 3 (ipykernel)",
   "language": "python",
   "name": "python3"
  },
  "language_info": {
   "codemirror_mode": {
    "name": "ipython",
    "version": 3
   },
   "file_extension": ".py",
   "mimetype": "text/x-python",
   "name": "python",
   "nbconvert_exporter": "python",
   "pygments_lexer": "ipython3",
   "version": "3.10.18"
  }
 },
 "nbformat": 4,
 "nbformat_minor": 5
}
