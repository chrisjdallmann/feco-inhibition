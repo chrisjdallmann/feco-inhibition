{
 "cells": [
  {
   "cell_type": "markdown",
   "metadata": {},
   "source": [
    "Author: Chris J. Dallmann \\\n",
    "Affiliation: University of Wuerzburg \\\n",
    "Last revision: 01-September-2025\n",
    "\n",
    "This code uses the computational model by Shiu PK, Sterne GR, Spiller N et al. (2024), Nature 634, 210–219, doi: https://doi.org/10.1038/s41586-024-07763-9. The model is available at https://github.com/philshiu/Drosophila_brain_model and is licensed under the MIT license."
   ]
  },
  {
   "cell_type": "code",
   "execution_count": 16,
   "metadata": {
    "ExecuteTime": {
     "end_time": "2024-06-17T22:09:59.218645500Z",
     "start_time": "2024-06-17T22:09:59.194420900Z"
    },
    "collapsed": false,
    "jupyter": {
     "outputs_hidden": false
    }
   },
   "outputs": [],
   "source": [
    "from simulation_model import run_exp\n",
    "from simulation_model import default_params as params\n",
    "from brian2 import Hz\n",
    "from brian2 import mV\n",
    "\n",
    "import yaml\n",
    "import pandas as pd \n",
    "import os"
   ]
  },
  {
   "cell_type": "code",
   "execution_count": 2,
   "metadata": {},
   "outputs": [],
   "source": [
    "# w_syn is a free parameter related to the synaptic weight. It determines how much each synapse influences the postsynaptic membrane potential. \n",
    "# Scaling w_syn essentially results in scaling the \"distance\" between the resting potential and the firing threshold potential.\n",
    "# Default: 0.275 * mV or 275.0 * uvolt\n",
    "params['w_syn'] = 0.275 * mV\n",
    "#params"
   ]
  },
  {
   "cell_type": "code",
   "execution_count": 4,
   "metadata": {
    "ExecuteTime": {
     "end_time": "2024-06-17T19:47:22.693601700Z",
     "start_time": "2024-06-17T19:36:25.048176300Z"
    },
    "collapsed": false,
    "jupyter": {
     "outputs_hidden": false
    }
   },
   "outputs": [],
   "source": [
    "# Set experiment name\n",
    "experiment_name = \"BDN2\"\n",
    "\n",
    "# Set connectome IDs (MANC)\n",
    "neurons_to_excite = [10093] # BDN2\n",
    "#neurons_to_excite = [10093, 10107] # BDN2, Web\n",
    "#neurons_to_excite = [32815, 31635, 32742, 31078] # DNg12 \n",
    "#neurons_to_excite = [32815, 31635, 32742, 31078, 10107] # DNg12, Web \n",
    "\n",
    "# Set stimulation frequencies\n",
    "freqs = [50,100,150]\n",
    "\n",
    "path_to_completeness = \"../data/manc_v1_completeness.csv\"\n",
    "path_to_connectivity = \"../data/manc_v1_connectivity.parquet\""
   ]
  },
  {
   "cell_type": "code",
   "execution_count": 11,
   "metadata": {},
   "outputs": [
    {
     "name": "stdout",
     "output_type": "stream",
     "text": [
      "1\n"
     ]
    }
   ],
   "source": [
    "# Remove connectome IDs that are not in completeness.csv\n",
    "df_completeness = pd.read_csv(path_to_completeness)\n",
    "neurons_in_model = df_completeness['bodyId'].tolist()\n",
    "neurons_to_excite = [(i) for i in neurons_to_excite if i in neurons_in_model]\n",
    "print(len(neurons_to_excite))"
   ]
  },
  {
   "cell_type": "code",
   "execution_count": 12,
   "metadata": {},
   "outputs": [],
   "source": [
    "# Create results folder if it does not exist\n",
    "path_to_results = os.path.join(\"../data/simulation/\", experiment_name)\n",
    "if not os.path.exists(path_to_results):\n",
    "    os.makedirs(path_to_results)"
   ]
  },
  {
   "cell_type": "code",
   "execution_count": 13,
   "metadata": {},
   "outputs": [
    {
     "name": "stdout",
     "output_type": "stream",
     "text": [
      ">>> Experiment:     50Hz\n",
      "    Output file:    ..\\data\\simulation\\BDN2\\50Hz.parquet\n",
      "    Exited neurons: 1\n",
      "    Elapsed time:   23 s\n",
      ">>> Experiment:     100Hz\n",
      "    Output file:    ..\\data\\simulation\\BDN2\\100Hz.parquet\n",
      "    Exited neurons: 1\n",
      "    Elapsed time:   5 s\n",
      ">>> Experiment:     150Hz\n",
      "    Output file:    ..\\data\\simulation\\BDN2\\150Hz.parquet\n",
      "    Exited neurons: 1\n",
      "    Elapsed time:   4 s\n"
     ]
    }
   ],
   "source": [
    "# Run simulation \n",
    "for f in freqs:\n",
    "    # Change default stimulation frequency \n",
    "    params[\"r_poi\"] = f * Hz\n",
    "\n",
    "    run_exp(\n",
    "        exp_name = str(f)+\"Hz\", \n",
    "        neu_exc = neurons_to_excite,\n",
    "        path_res = path_to_results,\n",
    "        path_comp = path_to_completeness,\n",
    "        path_con = path_to_connectivity,\n",
    "        force_overwrite = True,\n",
    "        params = params,\n",
    "        n_proc = -1\n",
    "    )"
   ]
  }
 ],
 "metadata": {
  "kernelspec": {
   "display_name": "Python 3 (ipykernel)",
   "language": "python",
   "name": "python3"
  },
  "language_info": {
   "codemirror_mode": {
    "name": "ipython",
    "version": 3
   },
   "file_extension": ".py",
   "mimetype": "text/x-python",
   "name": "python",
   "nbconvert_exporter": "python",
   "pygments_lexer": "ipython3",
   "version": "3.10.16"
  }
 },
 "nbformat": 4,
 "nbformat_minor": 4
}
