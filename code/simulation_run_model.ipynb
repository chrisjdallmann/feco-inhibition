{
 "cells": [
  {
   "cell_type": "markdown",
   "metadata": {},
   "source": [
    "Author: Chris J. Dallmann \\\n",
    "Affiliation: University of Wuerzburg \\\n",
    "Last revision: 26-May-2025\n",
    "\n",
    "This code uses the computational model by Shiu, PK, Sterne, GR, Spiller, N et al. (2024), Nature 634, 210–219, https://doi.org/10.1038/s41586-024-07763-9. "
   ]
  },
  {
   "cell_type": "code",
   "execution_count": 3,
   "metadata": {
    "ExecuteTime": {
     "end_time": "2024-06-17T22:09:59.218645500Z",
     "start_time": "2024-06-17T22:09:59.194420900Z"
    },
    "collapsed": false,
    "jupyter": {
     "outputs_hidden": false
    }
   },
   "outputs": [
    {
     "name": "stderr",
     "output_type": "stream",
     "text": [
      "INFO       Cache size for target 'cython': 16873 MB.\n",
      "You can call clear_cache('cython') to delete all files from the cache or manually delete files in the 'C:\\Users\\Chris\\.cython\\brian_extensions' directory. [brian2]\n"
     ]
    }
   ],
   "source": [
    "from simulation_model import run_exp\n",
    "from simulation_model import default_params as params\n",
    "from brian2 import Hz\n",
    "from brian2 import mV\n",
    "\n",
    "import yaml\n",
    "import pandas as pd \n",
    "import os"
   ]
  },
  {
   "cell_type": "code",
   "execution_count": 5,
   "metadata": {},
   "outputs": [],
   "source": [
    "#params"
   ]
  },
  {
   "cell_type": "code",
   "execution_count": 6,
   "metadata": {},
   "outputs": [
    {
     "data": {
      "text/plain": [
       "{'t_run': 1. * second,\n",
       " 'n_run': 30,\n",
       " 'v_0': -52. * mvolt,\n",
       " 'v_rst': -52. * mvolt,\n",
       " 'v_th': -45. * mvolt,\n",
       " 't_mbr': 20. * msecond,\n",
       " 'tau': 5. * msecond,\n",
       " 't_rfc': 2.2 * msecond,\n",
       " 't_dly': 1.8 * msecond,\n",
       " 'w_syn': 275. * uvolt,\n",
       " 'r_poi': 150. * hertz,\n",
       " 'r_poi2': 0. * hertz,\n",
       " 'f_poi': 250,\n",
       " 'eqs': '\\ndv/dt = (v_0 - v + g) / t_mbr  : volt (unless refractory)\\ndg/dt = -g / tau               : volt (unless refractory) \\nrfc                            : second\\n',\n",
       " 'eq_th': 'v > v_th',\n",
       " 'eq_rst': 'v = v_rst; w = 0; g = 0 * mV'}"
      ]
     },
     "execution_count": 6,
     "metadata": {},
     "output_type": "execute_result"
    }
   ],
   "source": [
    "# w_syn is a free parameter related to the synaptic weight. It determines how much each synapse influences the postsynaptic membrane potential. \n",
    "# Scaling w_syn essentially results in scaling the \"distance\" between the resting potential and the firing threshold potential.\n",
    "# Default: 0.275 * mV or 275.0 * uvolt\n",
    "params['w_syn'] = 0.275 * mV\n",
    "params"
   ]
  },
  {
   "cell_type": "code",
   "execution_count": 19,
   "metadata": {
    "ExecuteTime": {
     "end_time": "2024-06-17T19:47:22.693601700Z",
     "start_time": "2024-06-17T19:36:25.048176300Z"
    },
    "collapsed": false,
    "jupyter": {
     "outputs_hidden": false
    }
   },
   "outputs": [],
   "source": [
    "# Set experimental parameters\n",
    "experiment_name = \"BDN2\"\n",
    "\n",
    "# Connectome IDs in MANC\n",
    "neurons_to_excite = [10093] #, 10107] # BDN2, Web\n",
    "#neurons_to_excite = [32815, 31635, 32742, 31078, 10107] # DNg12 presynaptic to chief 9A in T1L \n",
    "\n",
    "freqs = [50,100,150]\n",
    "path_to_completeness = \"../data/simulation/completeness_manc_v1.csv\"\n",
    "path_to_connectivity = \"../data/simulation/connectivity_manc_v1.parquet\""
   ]
  },
  {
   "cell_type": "code",
   "execution_count": 20,
   "metadata": {},
   "outputs": [
    {
     "name": "stdout",
     "output_type": "stream",
     "text": [
      "1\n"
     ]
    }
   ],
   "source": [
    "# Remove connectome IDs that are not in completeness.csv\n",
    "df_completeness = pd.read_csv(path_to_completeness)\n",
    "neurons_in_model = df_completeness['Unnamed: 0'].tolist()\n",
    "neurons_to_excite = [(i) for i in neurons_to_excite if i in neurons_in_model]\n",
    "print(len(neurons_to_excite))"
   ]
  },
  {
   "cell_type": "code",
   "execution_count": 21,
   "metadata": {},
   "outputs": [],
   "source": [
    "# Create results folder if it does not exist\n",
    "path_to_results = os.path.join(\"../data/simulation/\", experiment_name)\n",
    "if not os.path.exists(path_to_results):\n",
    "    os.makedirs(path_to_results)"
   ]
  },
  {
   "cell_type": "code",
   "execution_count": 22,
   "metadata": {},
   "outputs": [
    {
     "name": "stdout",
     "output_type": "stream",
     "text": [
      ">>> Experiment:     50Hz\n",
      "    Output file:    ..\\data\\simulation\\BDN2\\50Hz.parquet\n",
      "    Exited neurons: 1\n",
      "    Elapsed time:   16 s\n",
      ">>> Experiment:     100Hz\n",
      "    Output file:    ..\\data\\simulation\\BDN2\\100Hz.parquet\n",
      "    Exited neurons: 1\n",
      "    Elapsed time:   7 s\n",
      ">>> Experiment:     150Hz\n",
      "    Output file:    ..\\data\\simulation\\BDN2\\150Hz.parquet\n",
      "    Exited neurons: 1\n",
      "    Elapsed time:   9 s\n"
     ]
    }
   ],
   "source": [
    "# Run simulation \n",
    "for f in freqs:\n",
    "    # Change default stimulation frequency \n",
    "    params[\"r_poi\"] = f * Hz\n",
    "\n",
    "    run_exp(\n",
    "        exp_name = str(f)+\"Hz\", #\"{}_{}Hz\".format(experiment_name, f), \n",
    "        neu_exc = neurons_to_excite,\n",
    "        path_res = path_to_results,\n",
    "        path_comp = path_to_completeness,\n",
    "        path_con = path_to_connectivity,\n",
    "        force_overwrite = True,\n",
    "        params = params,\n",
    "        n_proc = -1\n",
    "    )"
   ]
  }
 ],
 "metadata": {
  "kernelspec": {
   "display_name": "Python 3 (ipykernel)",
   "language": "python",
   "name": "python3"
  },
  "language_info": {
   "codemirror_mode": {
    "name": "ipython",
    "version": 3
   },
   "file_extension": ".py",
   "mimetype": "text/x-python",
   "name": "python",
   "nbconvert_exporter": "python",
   "pygments_lexer": "ipython3",
   "version": "3.10.16"
  }
 },
 "nbformat": 4,
 "nbformat_minor": 4
}
