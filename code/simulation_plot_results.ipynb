{
 "cells": [
  {
   "cell_type": "markdown",
   "id": "c9e330c4-7ba1-4770-9939-af9aa2e0a496",
   "metadata": {},
   "source": [
    "Author: Chris J. Dallmann \\\n",
    "Affiliation: University of Wuerzburg \\\n",
    "Last revision: 26-May-2025"
   ]
  },
  {
   "cell_type": "code",
   "execution_count": 1,
   "id": "8448395c-3548-44f2-af40-07871ae7415e",
   "metadata": {},
   "outputs": [],
   "source": [
    "import pandas as pd\n",
    "import numpy as np\n",
    "import matplotlib.pyplot as plt\n",
    "import seaborn as sns"
   ]
  },
  {
   "cell_type": "code",
   "execution_count": 2,
   "id": "523aeaf9-83fc-4347-a90a-467e9719ac67",
   "metadata": {},
   "outputs": [],
   "source": [
    "# Set experiment names and frequencies \n",
    "experiment_names = ['BDN2','BDN2_web','DNg12','DNg12_web']\n",
    "freqs = [50,100,150] \n",
    "chief_9A_ids = [100513, 13157, 14517] # T1L, T2L, T3L\n",
    "\n",
    "# Initialize variables\n",
    "simulation_results = np.zeros((len(chief_9A_ids), len(experiment_names)*len(freqs)))\n",
    "\n",
    "# Loop over experiments\n",
    "column_index = 0\n",
    "for experiment_index, experiment_name in enumerate(experiment_names):\n",
    "    \n",
    "    # Loop over freqs\n",
    "    for freq_index, freq in enumerate(freqs):\n",
    "        # Read simulation results \n",
    "        path_to_csv = \"../data/simulation/\" + experiment_name + \"/\" + str(freq) + \"Hz.csv\"\n",
    "        df = pd.read_csv(path_to_csv)\n",
    "\n",
    "        # Loop over chief 9A IDs\n",
    "        for row_index, chief_9A_id in enumerate(chief_9A_ids):\n",
    "            if chief_9A_id in df.connectome_id.tolist():\n",
    "                simulation_results[row_index,column_index] = df.spike_frequency[df.connectome_id == chief_9A_id].item()\n",
    "\n",
    "        column_index += 1"
   ]
  },
  {
   "cell_type": "code",
   "execution_count": 3,
   "id": "9ec7d8f5-f676-4531-9055-77bbbffc1c8e",
   "metadata": {},
   "outputs": [
    {
     "data": {
      "image/png": "[encoded data removed]",
      "text/plain": [
       "<Figure size 500x200 with 2 Axes>"
      ]
     },
     "metadata": {},
     "output_type": "display_data"
    }
   ],
   "source": [
    "# Plot simulation results \n",
    "fig = plt.figure(figsize=(5,2))\n",
    "cmap = sns.color_palette(\"gray_r\", as_cmap=True)\n",
    "xticklabels =  [50,100,150,50,100,150,50,100,150,50,100,150]\n",
    "yticklabels = ['L1','L2','L3']\n",
    "sns.heatmap(simulation_results, \n",
    "            cmap=cmap,\n",
    "            xticklabels=xticklabels, \n",
    "            yticklabels=yticklabels)            \n",
    "plt.ylabel('Leg neuropil')\n",
    "plt.xlabel('Stimulation frequency (Hz)')\n",
    "plt.yticks(rotation=0)\n",
    "plt.xticks(rotation=90)\n",
    "fig.tight_layout()\n",
    "plt.show()"
   ]
  }
 ],
 "metadata": {
  "kernelspec": {
   "display_name": "Python 3 (ipykernel)",
   "language": "python",
   "name": "python3"
  },
  "language_info": {
   "codemirror_mode": {
    "name": "ipython",
    "version": 3
   },
   "file_extension": ".py",
   "mimetype": "text/x-python",
   "name": "python",
   "nbconvert_exporter": "python",
   "pygments_lexer": "ipython3",
   "version": "3.10.16"
  }
 },
 "nbformat": 4,
 "nbformat_minor": 5
}
